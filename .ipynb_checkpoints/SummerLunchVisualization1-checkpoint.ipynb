{
 "cells": [
  {
   "cell_type": "code",
   "execution_count": 63,
   "metadata": {
    "collapsed": true
   },
   "outputs": [],
   "source": [
    "import matplotlib.pyplot as plt\n",
    "%matplotlib inline\n",
    "import seaborn as sns\n",
    "\n",
    "import pandas as pd\n",
    "import numpy"
   ]
  },
  {
   "cell_type": "code",
   "execution_count": 2,
   "metadata": {
    "collapsed": true
   },
   "outputs": [],
   "source": [
    "df = pd.read_excel(\"sfsummar.xls\")"
   ]
  },
  {
   "cell_type": "code",
   "execution_count": 3,
   "metadata": {},
   "outputs": [
    {
     "data": {
      "text/html": [
       "<div>\n",
       "<style>\n",
       "    .dataframe thead tr:only-child th {\n",
       "        text-align: right;\n",
       "    }\n",
       "\n",
       "    .dataframe thead th {\n",
       "        text-align: left;\n",
       "    }\n",
       "\n",
       "    .dataframe tbody tr th {\n",
       "        vertical-align: top;\n",
       "    }\n",
       "</style>\n",
       "<table border=\"1\" class=\"dataframe\">\n",
       "  <thead>\n",
       "    <tr style=\"text-align: right;\">\n",
       "      <th></th>\n",
       "      <th>SUMMER FOOD SERVICE PROGRAM 1]</th>\n",
       "      <th>Unnamed: 1</th>\n",
       "      <th>Unnamed: 2</th>\n",
       "      <th>Unnamed: 3</th>\n",
       "      <th>Unnamed: 4</th>\n",
       "    </tr>\n",
       "  </thead>\n",
       "  <tbody>\n",
       "    <tr>\n",
       "      <th>0</th>\n",
       "      <td>(Data as of March 09, 2018)</td>\n",
       "      <td>NaN</td>\n",
       "      <td>NaN</td>\n",
       "      <td>NaN</td>\n",
       "      <td>NaN</td>\n",
       "    </tr>\n",
       "    <tr>\n",
       "      <th>1</th>\n",
       "      <td>Fiscal</td>\n",
       "      <td>Number of</td>\n",
       "      <td>Peak (July)</td>\n",
       "      <td>Meals</td>\n",
       "      <td>Total Federal</td>\n",
       "    </tr>\n",
       "    <tr>\n",
       "      <th>2</th>\n",
       "      <td>Year</td>\n",
       "      <td>Sites</td>\n",
       "      <td>Participation</td>\n",
       "      <td>Served</td>\n",
       "      <td>Expenditures 2]</td>\n",
       "    </tr>\n",
       "    <tr>\n",
       "      <th>3</th>\n",
       "      <td></td>\n",
       "      <td>------------Thousands------------</td>\n",
       "      <td>NaN</td>\n",
       "      <td>--Mil.--</td>\n",
       "      <td>---Million $---</td>\n",
       "    </tr>\n",
       "    <tr>\n",
       "      <th>4</th>\n",
       "      <td>1969</td>\n",
       "      <td>1.2</td>\n",
       "      <td>99</td>\n",
       "      <td>2.2</td>\n",
       "      <td>0.3</td>\n",
       "    </tr>\n",
       "  </tbody>\n",
       "</table>\n",
       "</div>"
      ],
      "text/plain": [
       "  SUMMER FOOD SERVICE PROGRAM 1]                         Unnamed: 1  \\\n",
       "0    (Data as of March 09, 2018)                                NaN   \n",
       "1                        Fiscal                          Number of    \n",
       "2                           Year                             Sites    \n",
       "3                                 ------------Thousands------------   \n",
       "4                           1969                                1.2   \n",
       "\n",
       "      Unnamed: 2 Unnamed: 3       Unnamed: 4  \n",
       "0            NaN        NaN              NaN  \n",
       "1    Peak (July)      Meals    Total Federal  \n",
       "2  Participation     Served  Expenditures 2]  \n",
       "3            NaN   --Mil.--  ---Million $---  \n",
       "4             99        2.2              0.3  "
      ]
     },
     "execution_count": 3,
     "metadata": {},
     "output_type": "execute_result"
    }
   ],
   "source": [
    "df.head(5)"
   ]
  },
  {
   "cell_type": "code",
   "execution_count": 4,
   "metadata": {},
   "outputs": [
    {
     "data": {
      "text/html": [
       "<div>\n",
       "<style>\n",
       "    .dataframe thead tr:only-child th {\n",
       "        text-align: right;\n",
       "    }\n",
       "\n",
       "    .dataframe thead th {\n",
       "        text-align: left;\n",
       "    }\n",
       "\n",
       "    .dataframe tbody tr th {\n",
       "        vertical-align: top;\n",
       "    }\n",
       "</style>\n",
       "<table border=\"1\" class=\"dataframe\">\n",
       "  <thead>\n",
       "    <tr style=\"text-align: right;\">\n",
       "      <th></th>\n",
       "      <th>Year</th>\n",
       "      <th>Number of Sites (Thousand)</th>\n",
       "      <th>Peak Participation (Thousand)</th>\n",
       "      <th>Meals Served (Million)</th>\n",
       "      <th>Federal Expenditures (Million $)</th>\n",
       "    </tr>\n",
       "  </thead>\n",
       "  <tbody>\n",
       "    <tr>\n",
       "      <th>0</th>\n",
       "      <td>(Data as of March 09, 2018)</td>\n",
       "      <td>NaN</td>\n",
       "      <td>NaN</td>\n",
       "      <td>NaN</td>\n",
       "      <td>NaN</td>\n",
       "    </tr>\n",
       "    <tr>\n",
       "      <th>1</th>\n",
       "      <td>Fiscal</td>\n",
       "      <td>Number of</td>\n",
       "      <td>Peak (July)</td>\n",
       "      <td>Meals</td>\n",
       "      <td>Total Federal</td>\n",
       "    </tr>\n",
       "    <tr>\n",
       "      <th>2</th>\n",
       "      <td>Year</td>\n",
       "      <td>Sites</td>\n",
       "      <td>Participation</td>\n",
       "      <td>Served</td>\n",
       "      <td>Expenditures 2]</td>\n",
       "    </tr>\n",
       "    <tr>\n",
       "      <th>3</th>\n",
       "      <td></td>\n",
       "      <td>------------Thousands------------</td>\n",
       "      <td>NaN</td>\n",
       "      <td>--Mil.--</td>\n",
       "      <td>---Million $---</td>\n",
       "    </tr>\n",
       "    <tr>\n",
       "      <th>4</th>\n",
       "      <td>1969</td>\n",
       "      <td>1.2</td>\n",
       "      <td>99</td>\n",
       "      <td>2.2</td>\n",
       "      <td>0.3</td>\n",
       "    </tr>\n",
       "  </tbody>\n",
       "</table>\n",
       "</div>"
      ],
      "text/plain": [
       "                          Year         Number of Sites (Thousand)  \\\n",
       "0  (Data as of March 09, 2018)                                NaN   \n",
       "1                      Fiscal                          Number of    \n",
       "2                         Year                             Sites    \n",
       "3                               ------------Thousands------------   \n",
       "4                         1969                                1.2   \n",
       "\n",
       "  Peak Participation (Thousand) Meals Served (Million)  \\\n",
       "0                           NaN                    NaN   \n",
       "1                   Peak (July)                  Meals   \n",
       "2                 Participation                 Served   \n",
       "3                           NaN               --Mil.--   \n",
       "4                            99                    2.2   \n",
       "\n",
       "  Federal Expenditures (Million $)  \n",
       "0                              NaN  \n",
       "1                    Total Federal  \n",
       "2                  Expenditures 2]  \n",
       "3                  ---Million $---  \n",
       "4                              0.3  "
      ]
     },
     "execution_count": 4,
     "metadata": {},
     "output_type": "execute_result"
    }
   ],
   "source": [
    "df = df.rename(columns = {\"SUMMER FOOD SERVICE PROGRAM 1]\":\"Year\",\n",
    "                    \"Unnamed: 1\": \"Number of Sites (Thousand)\",\n",
    "                    \"Unnamed: 2\": \"Peak Participation (Thousand)\",\n",
    "                    \"Unnamed: 3\": \"Meals Served (Million)\",\n",
    "                    \"Unnamed: 4\": \"Federal Expenditures (Million $)\"})\n",
    "df.head(5)"
   ]
  },
  {
   "cell_type": "code",
   "execution_count": 5,
   "metadata": {},
   "outputs": [
    {
     "data": {
      "text/html": [
       "<div>\n",
       "<style>\n",
       "    .dataframe thead tr:only-child th {\n",
       "        text-align: right;\n",
       "    }\n",
       "\n",
       "    .dataframe thead th {\n",
       "        text-align: left;\n",
       "    }\n",
       "\n",
       "    .dataframe tbody tr th {\n",
       "        vertical-align: top;\n",
       "    }\n",
       "</style>\n",
       "<table border=\"1\" class=\"dataframe\">\n",
       "  <thead>\n",
       "    <tr style=\"text-align: right;\">\n",
       "      <th></th>\n",
       "      <th>Year</th>\n",
       "      <th>Number of Sites (Thousand)</th>\n",
       "      <th>Peak Participation (Thousand)</th>\n",
       "      <th>Meals Served (Million)</th>\n",
       "      <th>Federal Expenditures (Million $)</th>\n",
       "    </tr>\n",
       "  </thead>\n",
       "  <tbody>\n",
       "    <tr>\n",
       "      <th>52</th>\n",
       "      <td>2017</td>\n",
       "      <td>50.363</td>\n",
       "      <td>2637.32</td>\n",
       "      <td>152.052</td>\n",
       "      <td>481.852</td>\n",
       "    </tr>\n",
       "    <tr>\n",
       "      <th>53</th>\n",
       "      <td>FT 2017 data are preliminary; all data are sub...</td>\n",
       "      <td>NaN</td>\n",
       "      <td>NaN</td>\n",
       "      <td>NaN</td>\n",
       "      <td>NaN</td>\n",
       "    </tr>\n",
       "    <tr>\n",
       "      <th>54</th>\n",
       "      <td>1] Fiscal Year 1969 through 1975 data are for ...</td>\n",
       "      <td>NaN</td>\n",
       "      <td>NaN</td>\n",
       "      <td>NaN</td>\n",
       "      <td>NaN</td>\n",
       "    </tr>\n",
       "    <tr>\n",
       "      <th>55</th>\n",
       "      <td>2] Includes cash payments for meals served, sp...</td>\n",
       "      <td>NaN</td>\n",
       "      <td>NaN</td>\n",
       "      <td>NaN</td>\n",
       "      <td>NaN</td>\n",
       "    </tr>\n",
       "    <tr>\n",
       "      <th>56</th>\n",
       "      <td>3] TQ = Transitional Quarter, the interim betw...</td>\n",
       "      <td>NaN</td>\n",
       "      <td>NaN</td>\n",
       "      <td>NaN</td>\n",
       "      <td>NaN</td>\n",
       "    </tr>\n",
       "    <tr>\n",
       "      <th>57</th>\n",
       "      <td>4] The decline in costs from FY 1996 to FY 199...</td>\n",
       "      <td>NaN</td>\n",
       "      <td>NaN</td>\n",
       "      <td>NaN</td>\n",
       "      <td>NaN</td>\n",
       "    </tr>\n",
       "    <tr>\n",
       "      <th>58</th>\n",
       "      <td>5] The decrease in FY 2002 activity is largely...</td>\n",
       "      <td>NaN</td>\n",
       "      <td>NaN</td>\n",
       "      <td>NaN</td>\n",
       "      <td>NaN</td>\n",
       "    </tr>\n",
       "    <tr>\n",
       "      <th>59</th>\n",
       "      <td>http://www.fns.usda.gov/sfsp/resources-for-spo...</td>\n",
       "      <td>NaN</td>\n",
       "      <td>NaN</td>\n",
       "      <td>NaN</td>\n",
       "      <td>NaN</td>\n",
       "    </tr>\n",
       "  </tbody>\n",
       "</table>\n",
       "</div>"
      ],
      "text/plain": [
       "                                                 Year  \\\n",
       "52                                               2017   \n",
       "53  FT 2017 data are preliminary; all data are sub...   \n",
       "54  1] Fiscal Year 1969 through 1975 data are for ...   \n",
       "55  2] Includes cash payments for meals served, sp...   \n",
       "56  3] TQ = Transitional Quarter, the interim betw...   \n",
       "57  4] The decline in costs from FY 1996 to FY 199...   \n",
       "58  5] The decrease in FY 2002 activity is largely...   \n",
       "59  http://www.fns.usda.gov/sfsp/resources-for-spo...   \n",
       "\n",
       "   Number of Sites (Thousand) Peak Participation (Thousand)  \\\n",
       "52                     50.363                       2637.32   \n",
       "53                        NaN                           NaN   \n",
       "54                        NaN                           NaN   \n",
       "55                        NaN                           NaN   \n",
       "56                        NaN                           NaN   \n",
       "57                        NaN                           NaN   \n",
       "58                        NaN                           NaN   \n",
       "59                        NaN                           NaN   \n",
       "\n",
       "   Meals Served (Million) Federal Expenditures (Million $)  \n",
       "52                152.052                          481.852  \n",
       "53                    NaN                              NaN  \n",
       "54                    NaN                              NaN  \n",
       "55                    NaN                              NaN  \n",
       "56                    NaN                              NaN  \n",
       "57                    NaN                              NaN  \n",
       "58                    NaN                              NaN  \n",
       "59                    NaN                              NaN  "
      ]
     },
     "execution_count": 5,
     "metadata": {},
     "output_type": "execute_result"
    }
   ],
   "source": [
    "df.tail(8)"
   ]
  },
  {
   "cell_type": "code",
   "execution_count": 6,
   "metadata": {
    "collapsed": true
   },
   "outputs": [],
   "source": [
    "df.drop(df.index[0:4], inplace = True) ## drop the first 4 rows\n",
    "df.drop(df.index[-7:], inplace = True) ## drop the last 7 rows\n",
    "df.reset_index(inplace=True)"
   ]
  },
  {
   "cell_type": "code",
   "execution_count": 8,
   "metadata": {},
   "outputs": [
    {
     "data": {
      "text/html": [
       "<div>\n",
       "<style>\n",
       "    .dataframe thead tr:only-child th {\n",
       "        text-align: right;\n",
       "    }\n",
       "\n",
       "    .dataframe thead th {\n",
       "        text-align: left;\n",
       "    }\n",
       "\n",
       "    .dataframe tbody tr th {\n",
       "        vertical-align: top;\n",
       "    }\n",
       "</style>\n",
       "<table border=\"1\" class=\"dataframe\">\n",
       "  <thead>\n",
       "    <tr style=\"text-align: right;\">\n",
       "      <th></th>\n",
       "      <th>index</th>\n",
       "      <th>Year</th>\n",
       "      <th>Number of Sites (Thousand)</th>\n",
       "      <th>Peak Participation (Thousand)</th>\n",
       "      <th>Meals Served (Million)</th>\n",
       "      <th>Federal Expenditures (Million $)</th>\n",
       "    </tr>\n",
       "  </thead>\n",
       "  <tbody>\n",
       "    <tr>\n",
       "      <th>0</th>\n",
       "      <td>4</td>\n",
       "      <td>1969</td>\n",
       "      <td>1.2</td>\n",
       "      <td>99</td>\n",
       "      <td>2.2</td>\n",
       "      <td>0.3</td>\n",
       "    </tr>\n",
       "    <tr>\n",
       "      <th>1</th>\n",
       "      <td>5</td>\n",
       "      <td>1970</td>\n",
       "      <td>1.9</td>\n",
       "      <td>227</td>\n",
       "      <td>8.2</td>\n",
       "      <td>1.8</td>\n",
       "    </tr>\n",
       "    <tr>\n",
       "      <th>2</th>\n",
       "      <td>6</td>\n",
       "      <td>1971</td>\n",
       "      <td>3.2</td>\n",
       "      <td>569</td>\n",
       "      <td>29</td>\n",
       "      <td>8.2</td>\n",
       "    </tr>\n",
       "    <tr>\n",
       "      <th>3</th>\n",
       "      <td>7</td>\n",
       "      <td>1972</td>\n",
       "      <td>6.5</td>\n",
       "      <td>1080</td>\n",
       "      <td>73.5</td>\n",
       "      <td>21.9</td>\n",
       "    </tr>\n",
       "    <tr>\n",
       "      <th>4</th>\n",
       "      <td>8</td>\n",
       "      <td>1973</td>\n",
       "      <td>11.2</td>\n",
       "      <td>1437</td>\n",
       "      <td>65.4</td>\n",
       "      <td>26.6</td>\n",
       "    </tr>\n",
       "  </tbody>\n",
       "</table>\n",
       "</div>"
      ],
      "text/plain": [
       "   index  Year Number of Sites (Thousand) Peak Participation (Thousand)  \\\n",
       "0      4  1969                        1.2                            99   \n",
       "1      5  1970                        1.9                           227   \n",
       "2      6  1971                        3.2                           569   \n",
       "3      7  1972                        6.5                          1080   \n",
       "4      8  1973                       11.2                          1437   \n",
       "\n",
       "  Meals Served (Million) Federal Expenditures (Million $)  \n",
       "0                    2.2                              0.3  \n",
       "1                    8.2                              1.8  \n",
       "2                     29                              8.2  \n",
       "3                   73.5                             21.9  \n",
       "4                   65.4                             26.6  "
      ]
     },
     "execution_count": 8,
     "metadata": {},
     "output_type": "execute_result"
    }
   ],
   "source": [
    "df.head()"
   ]
  },
  {
   "cell_type": "code",
   "execution_count": 9,
   "metadata": {},
   "outputs": [
    {
     "data": {
      "text/plain": [
       "<matplotlib.axes._subplots.AxesSubplot at 0x10d752908>"
      ]
     },
     "execution_count": 9,
     "metadata": {},
     "output_type": "execute_result"
    },
    {
     "data": {
      "image/png": "[encoded data removed]",
      "text/plain": [
       "<matplotlib.figure.Figure at 0x10db6b518>"
      ]
     },
     "metadata": {},
     "output_type": "display_data"
    }
   ],
   "source": [
    "df.plot(x = \"Year\", y = [\"Number of Sites (Thousand)\",\n",
    "                         \"Peak Participation (Thousand)\"])"
   ]
  },
  {
   "cell_type": "code",
   "execution_count": 65,
   "metadata": {},
   "outputs": [
    {
     "ename": "TypeError",
     "evalue": "'module' object is not callable",
     "output_type": "error",
     "traceback": [
      "\u001b[0;31m---------------------------------------------------------------------------\u001b[0m",
      "\u001b[0;31mTypeError\u001b[0m                                 Traceback (most recent call last)",
      "\u001b[0;32m<ipython-input-65-2810c364b4c9>\u001b[0m in \u001b[0;36m<module>\u001b[0;34m()\u001b[0m\n\u001b[0;32m----> 1\u001b[0;31m \u001b[0mplt\u001b[0m\u001b[0;34m(\u001b[0m\u001b[0mx\u001b[0m \u001b[0;34m=\u001b[0m \u001b[0;34m\"Number of Sites (Thousand)\"\u001b[0m\u001b[0;34m,\u001b[0m \u001b[0my\u001b[0m \u001b[0;34m=\u001b[0m \u001b[0;34m\"Peak Participation (Thousand)\"\u001b[0m\u001b[0;34m)\u001b[0m\u001b[0;34m\u001b[0m\u001b[0m\n\u001b[0m",
      "\u001b[0;31mTypeError\u001b[0m: 'module' object is not callable"
     ]
    }
   ],
   "source": [
    "(x = \"Number of Sites (Thousand)\", y = \"Peak Participation (Thousand)\")"
   ]
  },
  {
   "cell_type": "code",
   "execution_count": 71,
   "metadata": {},
   "outputs": [
    {
     "data": {
      "text/plain": [
       "<matplotlib.axes._subplots.AxesSubplot at 0x10f0340b8>"
      ]
     },
     "execution_count": 71,
     "metadata": {},
     "output_type": "execute_result"
    },
    {
     "data": {
      "image/png": "[encoded data removed]",
      "text/plain": [
       "<matplotlib.figure.Figure at 0x10f042dd8>"
      ]
     },
     "metadata": {},
     "output_type": "display_data"
    }
   ],
   "source": [
    "df.plot(x = \"Year\", y = \"Federal Expenditures (Million $)\")"
   ]
  },
  {
   "cell_type": "code",
   "execution_count": 12,
   "metadata": {
    "collapsed": true
   },
   "outputs": [],
   "source": [
    "cpi = pd.read_excel(\"AverageCPI1969-2017.xlsx\")"
   ]
  },
  {
   "cell_type": "code",
   "execution_count": 13,
   "metadata": {},
   "outputs": [
    {
     "data": {
      "text/html": [
       "<div>\n",
       "<style>\n",
       "    .dataframe thead tr:only-child th {\n",
       "        text-align: right;\n",
       "    }\n",
       "\n",
       "    .dataframe thead th {\n",
       "        text-align: left;\n",
       "    }\n",
       "\n",
       "    .dataframe tbody tr th {\n",
       "        vertical-align: top;\n",
       "    }\n",
       "</style>\n",
       "<table border=\"1\" class=\"dataframe\">\n",
       "  <thead>\n",
       "    <tr style=\"text-align: right;\">\n",
       "      <th></th>\n",
       "      <th>Year</th>\n",
       "      <th>AverageCPI</th>\n",
       "    </tr>\n",
       "  </thead>\n",
       "  <tbody>\n",
       "    <tr>\n",
       "      <th>0</th>\n",
       "      <td>1969</td>\n",
       "      <td>36.7</td>\n",
       "    </tr>\n",
       "    <tr>\n",
       "      <th>1</th>\n",
       "      <td>1970</td>\n",
       "      <td>38.8</td>\n",
       "    </tr>\n",
       "    <tr>\n",
       "      <th>2</th>\n",
       "      <td>1971</td>\n",
       "      <td>40.5</td>\n",
       "    </tr>\n",
       "    <tr>\n",
       "      <th>3</th>\n",
       "      <td>1972</td>\n",
       "      <td>41.8</td>\n",
       "    </tr>\n",
       "    <tr>\n",
       "      <th>4</th>\n",
       "      <td>1973</td>\n",
       "      <td>44.4</td>\n",
       "    </tr>\n",
       "  </tbody>\n",
       "</table>\n",
       "</div>"
      ],
      "text/plain": [
       "   Year  AverageCPI\n",
       "0  1969        36.7\n",
       "1  1970        38.8\n",
       "2  1971        40.5\n",
       "3  1972        41.8\n",
       "4  1973        44.4"
      ]
     },
     "execution_count": 13,
     "metadata": {},
     "output_type": "execute_result"
    }
   ],
   "source": [
    "cpi.head()"
   ]
  },
  {
   "cell_type": "code",
   "execution_count": 14,
   "metadata": {
    "collapsed": true
   },
   "outputs": [],
   "source": [
    "## append new cpi column to our original data frame:\n",
    "df[\"CPI\"] = cpi[\"AverageCPI\"]"
   ]
  },
  {
   "cell_type": "code",
   "execution_count": 53,
   "metadata": {},
   "outputs": [],
   "source": [
    "avgFedSpending = []\n",
    "for i in range(0,49):\n",
    "    avgFedSpending.append(df[\"Federal Expenditures (Million $)\"][i]/(df[\"CPI\"][i])*df[\"CPI\"][48])\n",
    "df[\"avgFedSpending\"] = avgFedSpending"
   ]
  },
  {
   "cell_type": "code",
   "execution_count": 55,
   "metadata": {},
   "outputs": [
    {
     "data": {
      "text/html": [
       "<div>\n",
       "<style>\n",
       "    .dataframe thead tr:only-child th {\n",
       "        text-align: right;\n",
       "    }\n",
       "\n",
       "    .dataframe thead th {\n",
       "        text-align: left;\n",
       "    }\n",
       "\n",
       "    .dataframe tbody tr th {\n",
       "        vertical-align: top;\n",
       "    }\n",
       "</style>\n",
       "<table border=\"1\" class=\"dataframe\">\n",
       "  <thead>\n",
       "    <tr style=\"text-align: right;\">\n",
       "      <th></th>\n",
       "      <th>index</th>\n",
       "      <th>Year</th>\n",
       "      <th>Number of Sites (Thousand)</th>\n",
       "      <th>Peak Participation (Thousand)</th>\n",
       "      <th>Meals Served (Million)</th>\n",
       "      <th>Federal Expenditures (Million $)</th>\n",
       "      <th>CPI</th>\n",
       "      <th>avgFedSpending</th>\n",
       "    </tr>\n",
       "  </thead>\n",
       "  <tbody>\n",
       "    <tr>\n",
       "      <th>0</th>\n",
       "      <td>4</td>\n",
       "      <td>1969</td>\n",
       "      <td>1.2</td>\n",
       "      <td>99</td>\n",
       "      <td>2.2</td>\n",
       "      <td>0.3</td>\n",
       "      <td>36.7</td>\n",
       "      <td>2.003706</td>\n",
       "    </tr>\n",
       "    <tr>\n",
       "      <th>1</th>\n",
       "      <td>5</td>\n",
       "      <td>1970</td>\n",
       "      <td>1.9</td>\n",
       "      <td>227</td>\n",
       "      <td>8.2</td>\n",
       "      <td>1.8</td>\n",
       "      <td>38.8</td>\n",
       "      <td>11.371546</td>\n",
       "    </tr>\n",
       "    <tr>\n",
       "      <th>2</th>\n",
       "      <td>6</td>\n",
       "      <td>1971</td>\n",
       "      <td>3.2</td>\n",
       "      <td>569</td>\n",
       "      <td>29</td>\n",
       "      <td>8.2</td>\n",
       "      <td>40.5</td>\n",
       "      <td>49.629235</td>\n",
       "    </tr>\n",
       "    <tr>\n",
       "      <th>3</th>\n",
       "      <td>7</td>\n",
       "      <td>1972</td>\n",
       "      <td>6.5</td>\n",
       "      <td>1080</td>\n",
       "      <td>73.5</td>\n",
       "      <td>21.9</td>\n",
       "      <td>41.8</td>\n",
       "      <td>128.424115</td>\n",
       "    </tr>\n",
       "    <tr>\n",
       "      <th>4</th>\n",
       "      <td>8</td>\n",
       "      <td>1973</td>\n",
       "      <td>11.2</td>\n",
       "      <td>1437</td>\n",
       "      <td>65.4</td>\n",
       "      <td>26.6</td>\n",
       "      <td>44.4</td>\n",
       "      <td>146.851171</td>\n",
       "    </tr>\n",
       "  </tbody>\n",
       "</table>\n",
       "</div>"
      ],
      "text/plain": [
       "   index  Year Number of Sites (Thousand) Peak Participation (Thousand)  \\\n",
       "0      4  1969                        1.2                            99   \n",
       "1      5  1970                        1.9                           227   \n",
       "2      6  1971                        3.2                           569   \n",
       "3      7  1972                        6.5                          1080   \n",
       "4      8  1973                       11.2                          1437   \n",
       "\n",
       "  Meals Served (Million) Federal Expenditures (Million $)   CPI  \\\n",
       "0                    2.2                              0.3  36.7   \n",
       "1                    8.2                              1.8  38.8   \n",
       "2                     29                              8.2  40.5   \n",
       "3                   73.5                             21.9  41.8   \n",
       "4                   65.4                             26.6  44.4   \n",
       "\n",
       "   avgFedSpending  \n",
       "0        2.003706  \n",
       "1       11.371546  \n",
       "2       49.629235  \n",
       "3      128.424115  \n",
       "4      146.851171  "
      ]
     },
     "execution_count": 55,
     "metadata": {},
     "output_type": "execute_result"
    }
   ],
   "source": [
    "df.head()"
   ]
  },
  {
   "cell_type": "code",
   "execution_count": 60,
   "metadata": {},
   "outputs": [
    {
     "data": {
      "text/plain": [
       "<matplotlib.axes._subplots.AxesSubplot at 0x10e29a898>"
      ]
     },
     "execution_count": 60,
     "metadata": {},
     "output_type": "execute_result"
    },
    {
     "data": {
      "image/png": "[encoded data removed]",
      "text/plain": [
       "<matplotlib.figure.Figure at 0x10e921d30>"
      ]
     },
     "metadata": {},
     "output_type": "display_data"
    }
   ],
   "source": [
    "df.plot(x = \"Year\", y = [\"avgFedSpending\",\"Meals Served (Million)\"])"
   ]
  },
  {
   "cell_type": "code",
   "execution_count": null,
   "metadata": {
    "collapsed": true
   },
   "outputs": [],
   "source": []
  }
 ],
 "metadata": {
  "kernelspec": {
   "display_name": "Python 3",
   "language": "python",
   "name": "python3"
  },
  "language_info": {
   "codemirror_mode": {
    "name": "ipython",
    "version": 3
   },
   "file_extension": ".py",
   "mimetype": "text/x-python",
   "name": "python",
   "nbconvert_exporter": "python",
   "pygments_lexer": "ipython3",
   "version": "3.6.1"
  }
 },
 "nbformat": 4,
 "nbformat_minor": 2
}
